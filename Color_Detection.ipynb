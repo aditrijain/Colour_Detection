{
  "cells": [
    {
      "cell_type": "code",
      "execution_count": 1,
      "metadata": {
        "id": "sJIDfQHqNZUa"
      },
      "outputs": [],
      "source": [
        "\n",
        "import numpy as np\n",
        "import cv2\n",
        "from PIL import Image\n",
        "\n",
        "green = [0, 255, 0]  # green in BGR colorspace"
      ]
    },
    {
      "cell_type": "code",
      "execution_count": 2,
      "metadata": {
        "id": "iuyPNB5vNZUe"
      },
      "outputs": [],
      "source": [
        "def get_limits(color):\n",
        "    c = np.uint8([[color]])\n",
        "    hsvC = cv2.cvtColor(c, cv2.COLOR_BGR2HSV)\n",
        "    lowerLimit = hsvC[0][0][0] - 10, 100, 100\n",
        "    upperLimit = hsvC[0][0][0] + 10, 255, 255\n",
        "    lowerLimit = np.array(lowerLimit, dtype=np.uint8)\n",
        "    upperLimit = np.array(upperLimit, dtype=np.uint8)\n",
        "    return lowerLimit, upperLimit\n"
      ]
    },
    {
      "cell_type": "code",
      "execution_count": 3,
      "metadata": {
        "id": "C38q0e_NNZUe"
      },
      "outputs": [],
      "source": [
        "cap = cv2.VideoCapture(0)"
      ]
    },
    {
      "cell_type": "code",
      "execution_count": 4,
      "metadata": {
        "id": "B-dJbYwrNZUf"
      },
      "outputs": [],
      "source": [
        "while True:\n",
        "    ret, frame = cap.read()\n",
        "\n",
        "    hsvImage = cv2.cvtColor(frame, cv2.COLOR_BGR2HSV)\n",
        "    lowerLimit, upperLimit = get_limits(color=green)\n",
        "    mask = cv2.inRange(hsvImage, lowerLimit, upperLimit)\n",
        "    mask_ = Image.fromarray(mask)\n",
        "    bbox = mask_.getbbox()\n",
        "    if bbox is not None:\n",
        "        x1, y1, x2, y2 = bbox\n",
        "        frame = cv2.rectangle(frame, (x1, y1), (x2, y2), (0, 0, 255), 5)\n",
        "    cv2.imshow('frame', frame)\n",
        "    if cv2.waitKey(1) == ord('q'):\n",
        "        break\n",
        "\n",
        "cap.release()\n",
        "cv2.destroyAllWindows()"
      ]
    }
  ],
  "metadata": {
    "colab": {
      "provenance": []
    },
    "kernelspec": {
      "display_name": "Python 3",
      "language": "python",
      "name": "python3"
    },
    "language_info": {
      "codemirror_mode": {
        "name": "ipython",
        "version": 3
      },
      "file_extension": ".py",
      "mimetype": "text/x-python",
      "name": "python",
      "nbconvert_exporter": "python",
      "pygments_lexer": "ipython3",
      "version": "3.12.1"
    }
  },
  "nbformat": 4,
  "nbformat_minor": 0
}
